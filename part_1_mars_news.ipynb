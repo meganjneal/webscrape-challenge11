{
 "cells": [
  {
   "cell_type": "raw",
   "id": "2eb5cec6-fa95-4daa-9be1-4fa188e0ae57",
   "metadata": {},
   "source": [
    "# Import required libraries  \n",
    "from splinter import Browser  \n",
    "from bs4 import BeautifulSoup  \n",
    "from webdriver_manager.chrome import ChromeDriverManager  \n",
    "from selenium.webdriver.chrome.service import Service  \n",
    "  \n",
    "# Set up the Chrome driver  \n",
    "service = Service(ChromeDriverManager().install())  \n",
    "browser = Browser('chrome', service=service)  \n",
    "  \n",
    "print(\"Browser is set up!\")  "
   ]
  },
  {
   "cell_type": "code",
   "execution_count": 3,
   "id": "3738d9dd-bd01-4b39-b49d-5a0b395e1cb4",
   "metadata": {},
   "outputs": [
    {
     "ename": "NameError",
     "evalue": "name 'browser' is not defined",
     "output_type": "error",
     "traceback": [
      "\u001b[1;31m---------------------------------------------------------------------------\u001b[0m",
      "\u001b[1;31mNameError\u001b[0m                                 Traceback (most recent call last)",
      "Cell \u001b[1;32mIn[3], line 3\u001b[0m\n\u001b[0;32m      1\u001b[0m \u001b[38;5;66;03m# Visit the Mars news site  \u001b[39;00m\n\u001b[0;32m      2\u001b[0m url \u001b[38;5;241m=\u001b[39m \u001b[38;5;124m'\u001b[39m\u001b[38;5;124mhttps://static.bc-edx.com/data/web/mars_news/index.html\u001b[39m\u001b[38;5;124m'\u001b[39m  \n\u001b[1;32m----> 3\u001b[0m browser\u001b[38;5;241m.\u001b[39mvisit(url)  \n\u001b[0;32m      4\u001b[0m \u001b[38;5;28mprint\u001b[39m(\u001b[38;5;124m\"\u001b[39m\u001b[38;5;124mVisited the website!\u001b[39m\u001b[38;5;124m\"\u001b[39m)  \n\u001b[0;32m      6\u001b[0m \u001b[38;5;66;03m# Create BeautifulSoup object with the page HTML  \u001b[39;00m\n",
      "\u001b[1;31mNameError\u001b[0m: name 'browser' is not defined"
     ]
    }
   ],
   "source": [
    "# Visit the Mars news site  \n",
    "url = 'https://static.bc-edx.com/data/web/mars_news/index.html'  \n",
    "browser.visit(url)  \n",
    "print(\"Visited the website!\")  \n",
    "  \n",
    "# Create BeautifulSoup object with the page HTML  \n",
    "html = browser.html  \n",
    "soup = BeautifulSoup(html, 'html.parser')  \n",
    "print(\"Created BeautifulSoup object!\")  "
   ]
  },
  {
   "cell_type": "code",
   "execution_count": 5,
   "id": "2b4a1723-49b3-4f92-accb-d9c3987cbb12",
   "metadata": {
    "scrolled": true
   },
   "outputs": [
    {
     "ename": "NameError",
     "evalue": "name 'soup' is not defined",
     "output_type": "error",
     "traceback": [
      "\u001b[1;31m---------------------------------------------------------------------------\u001b[0m",
      "\u001b[1;31mNameError\u001b[0m                                 Traceback (most recent call last)",
      "Cell \u001b[1;32mIn[5], line 2\u001b[0m\n\u001b[0;32m      1\u001b[0m \u001b[38;5;66;03m# Scrape all articles (each article block should be in the 'list_text' class)  \u001b[39;00m\n\u001b[1;32m----> 2\u001b[0m articles \u001b[38;5;241m=\u001b[39m soup\u001b[38;5;241m.\u001b[39mfind_all(\u001b[38;5;124m'\u001b[39m\u001b[38;5;124mdiv\u001b[39m\u001b[38;5;124m'\u001b[39m, class_\u001b[38;5;241m=\u001b[39m\u001b[38;5;124m'\u001b[39m\u001b[38;5;124mlist_text\u001b[39m\u001b[38;5;124m'\u001b[39m)  \n\u001b[0;32m      3\u001b[0m \u001b[38;5;28mprint\u001b[39m(\u001b[38;5;124mf\u001b[39m\u001b[38;5;124m\"\u001b[39m\u001b[38;5;124mFound \u001b[39m\u001b[38;5;132;01m{\u001b[39;00m\u001b[38;5;28mlen\u001b[39m(articles)\u001b[38;5;132;01m}\u001b[39;00m\u001b[38;5;124m articles!\u001b[39m\u001b[38;5;130;01m\\n\u001b[39;00m\u001b[38;5;124m\"\u001b[39m)  \n\u001b[0;32m      5\u001b[0m \u001b[38;5;66;03m# Create an empty list to store the dictionaries  \u001b[39;00m\n",
      "\u001b[1;31mNameError\u001b[0m: name 'soup' is not defined"
     ]
    }
   ],
   "source": [
    "# Scrape all articles (each article block should be in the 'list_text' class)  \n",
    "articles = soup.find_all('div', class_='list_text')  \n",
    "print(f\"Found {len(articles)} articles!\\n\")  \n",
    "  \n",
    "# Create an empty list to store the dictionaries  \n",
    "mars_news = []  \n",
    "  \n",
    "# Loop through each article and extract title and preview  \n",
    "for article in articles:  \n",
    "    title = article.find('div', class_='content_title').text.strip()  \n",
    "    preview = article.find('div', class_='article_teaser_body').text.strip()  \n",
    "      \n",
    "    article_dict = {'title': title, 'preview': preview}  \n",
    "    mars_news.append(article_dict)  \n",
    "  \n",
    "# Print the results in a clean format  \n",
    "print(\"Scraped Mars News Articles:\\n\" + \"=\" * 40)  \n",
    "for news in mars_news:  \n",
    "    print(\"Title:   \" + news['title'])  \n",
    "    print(\"Summary: \" + news['preview'])  \n",
    "    print(\"-\" * 40)  "
   ]
  },
  {
   "cell_type": "code",
   "execution_count": null,
   "id": "536f71af-06af-4870-9797-c5af39d78b98",
   "metadata": {},
   "outputs": [],
   "source": [
    "# Quit the browser safely  \n",
    "if 'browser' in globals():  \n",
    "    browser.quit()  \n",
    "    print(\"Browser closed!\")  \n",
    "else:  \n",
    "    print(\"No browser instance found.\")  "
   ]
  }
 ],
 "metadata": {
  "kernelspec": {
   "display_name": "Python 3 (ipykernel)",
   "language": "python",
   "name": "python3"
  },
  "language_info": {
   "codemirror_mode": {
    "name": "ipython",
    "version": 3
   },
   "file_extension": ".py",
   "mimetype": "text/x-python",
   "name": "python",
   "nbconvert_exporter": "python",
   "pygments_lexer": "ipython3",
   "version": "3.12.4"
  }
 },
 "nbformat": 4,
 "nbformat_minor": 5
}
