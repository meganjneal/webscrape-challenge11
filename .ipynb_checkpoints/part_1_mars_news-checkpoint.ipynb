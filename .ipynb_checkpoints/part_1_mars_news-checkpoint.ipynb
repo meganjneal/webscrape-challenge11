{
 "cells": [
  {
   "cell_type": "code",
   "execution_count": null,
   "id": "87207fe7-6830-4f46-a64d-26f9143d9937",
   "metadata": {},
   "outputs": [],
   "source": [
    "%pip install selenium  "
   ]
  },
  {
   "cell_type": "code",
   "execution_count": null,
   "id": "a099d686-9015-43cc-b968-c722944baa53",
   "metadata": {},
   "outputs": [],
   "source": [
    "# Import Splinter and BeautifulSoup  \n",
    "if 'browser' in globals():  \n",
    "    browser.quit()  \n",
    "    print(\"Browser closed!\")  \n",
    "else:  \n",
    "    print(\"Browser was not defined.\")  \n",
    "\n",
    "from splinter import Browser  \n",
    "from bs4 import BeautifulSoup  \n",
    "from webdriver_manager.chrome import ChromeDriverManager  \n",
    "from selenium.webdriver.chrome.service import Service  "
   ]
  },
  {
   "cell_type": "code",
   "execution_count": null,
   "id": "3738d9dd-bd01-4b39-b49d-5a0b395e1cb4",
   "metadata": {},
   "outputs": [],
   "source": [
    "# Set up Chrome with webdriver-manager  \n",
    "service = Service(ChromeDriverManager().install())  \n",
    "browser = Browser('chrome', service=service)  "
   ]
  },
  {
   "cell_type": "code",
   "execution_count": null,
   "id": "2b4a1723-49b3-4f92-accb-d9c3987cbb12",
   "metadata": {},
   "outputs": [],
   "source": [
    "# Visit the Mars news site  \n",
    "url = 'https://static.bc-edx.com/data/web/mars_news/index.html'  \n",
    "browser.visit(url)  \n",
    "print(\"Visited the website!\")  \n",
    "  \n",
    "# Create BeautifulSoup object with the page HTML  \n",
    "html = browser.html  \n",
    "soup = BeautifulSoup(html, 'html.parser')  \n",
    "print(\"Created BeautifulSoup soup object!\")  \n",
    "  \n",
    "# Scrape all articles (each article block should be in the 'list_text' class)  \n",
    "articles = soup.find_all('div', class_='list_text')  \n",
    "print(f\"Found {len(articles)} articles!\")  \n",
    "  \n",
    "# Create an empty list to store the dictionaries  \n",
    "mars_news = []  "
   ]
  },
  {
   "cell_type": "code",
   "execution_count": null,
   "id": "ffe4fbef-471b-4e6c-8777-e3e433bb42a2",
   "metadata": {},
   "outputs": [],
   "source": [
    "# Loop through each article and extract title and preview  \n",
    "for article in articles:  \n",
    "    title = article.find('div', class_='content_title').text.strip()  \n",
    "    preview = article.find('div', class_='article_teaser_body').text.strip()  \n",
    "      \n",
    "    article_dict = {'title': title, 'preview': preview}  \n",
    "    mars_news.append(article_dict)  "
   ]
  },
  {
   "cell_type": "code",
   "execution_count": null,
   "id": "25aecd4b-bc8f-4ad6-a7ec-4a588e313052",
   "metadata": {},
   "outputs": [],
   "source": [
    "# Print the results in a clean format  \n",
    "print(\"\\nScraped Mars News Articles:\\n\" + \"=\" * 40)  \n",
    "for news in mars_news:  \n",
    "    print(\"Title:  \" + news['title'])  \n",
    "    print(\"Summary:\" + news['preview'])  \n",
    "    print(\"-\" * 40)"
   ]
  },
  {
   "cell_type": "code",
   "execution_count": null,
   "id": "05d71017-cb79-4506-97dd-bc958029a18e",
   "metadata": {},
   "outputs": [],
   "source": [
    "# Quit the browser  \n",
    "if 'browser' in globals():  \n",
    "    browser.quit()  \n",
    "    print(\"Browser closed!\")  \n",
    "else:  \n",
    "    print(\"Browser was not defined.\")  \n",
    "browser.quit()  \n",
    "print(\"\\nBrowser closed!\")  "
   ]
  }
 ],
 "metadata": {
  "kernelspec": {
   "display_name": "Python 3 (ipykernel)",
   "language": "python",
   "name": "python3"
  },
  "language_info": {
   "codemirror_mode": {
    "name": "ipython",
    "version": 3
   },
   "file_extension": ".py",
   "mimetype": "text/x-python",
   "name": "python",
   "nbconvert_exporter": "python",
   "pygments_lexer": "ipython3",
   "version": "3.12.4"
  }
 },
 "nbformat": 4,
 "nbformat_minor": 5
}
