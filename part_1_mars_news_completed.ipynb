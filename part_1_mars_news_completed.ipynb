{
 "cells": [
  {
   "cell_type": "code",
   "execution_count": 3,
   "id": "e09f011f-72c9-4465-a286-aea18839d6a8",
   "metadata": {},
   "outputs": [
    {
     "name": "stdout",
     "output_type": "stream",
     "text": [
      "Browser is set up!\n"
     ]
    }
   ],
   "source": [
    "# Import required libraries  \n",
    "from splinter import Browser  \n",
    "from bs4 import BeautifulSoup  \n",
    "from webdriver_manager.chrome import ChromeDriverManager  \n",
    "from selenium.webdriver.chrome.service import Service  \n",
    "  \n",
    "# Set up the Chrome driver  \n",
    "service = Service(ChromeDriverManager().install())  \n",
    "browser = Browser('chrome', service=service)  \n",
    "  \n",
    "print(\"Browser is set up!\")  "
   ]
  },
  {
   "cell_type": "code",
   "execution_count": 5,
   "id": "585f632a-11d7-4e9a-87a8-5be06f7b0e96",
   "metadata": {},
   "outputs": [
    {
     "name": "stdout",
     "output_type": "stream",
     "text": [
      "Visited the website!\n",
      "Created BeautifulSoup object!\n"
     ]
    }
   ],
   "source": [
    "# Visit the Mars news site  \n",
    "url = 'https://static.bc-edx.com/data/web/mars_news/index.html'  \n",
    "browser.visit(url)  \n",
    "print(\"Visited the website!\")  \n",
    "  \n",
    "# Create BeautifulSoup object with the page HTML  \n",
    "html = browser.html  \n",
    "soup = BeautifulSoup(html, 'html.parser')  \n",
    "print(\"Created BeautifulSoup object!\")  "
   ]
  },
  {
   "cell_type": "code",
   "execution_count": 11,
   "id": "2a5af7b0-f7a0-4eda-b7ff-f0e68a2c27d8",
   "metadata": {},
   "outputs": [
    {
     "name": "stdout",
     "output_type": "stream",
     "text": [
      "Found 15 articles!\n",
      "\n",
      "Scraped Mars News Articles:\n",
      "========================================\n",
      "Title:   NASA's MAVEN Observes Martian Light Show Caused by Major Solar Storm\n",
      "Summary: For the first time in its eight years orbiting Mars, NASA’s MAVEN mission witnessed two different types of ultraviolet aurorae simultaneously, the result of solar storms that began on Aug. 27.\n",
      "----------------------------------------\n",
      "Title:   NASA Prepares to Say 'Farewell' to InSight Spacecraft\n",
      "Summary: A closer look at what goes into wrapping up the mission as the spacecraft’s power supply continues to dwindle.\n",
      "----------------------------------------\n",
      "Title:   NASA and ESA Agree on Next Steps to Return Mars Samples to Earth\n",
      "Summary: The agency’s Perseverance rover will establish the first sample depot on Mars.\n",
      "----------------------------------------\n",
      "Title:   NASA's InSight Lander Detects Stunning Meteoroid Impact on Mars\n",
      "Summary: The agency’s lander felt the ground shake during the impact while cameras aboard the Mars Reconnaissance Orbiter spotted the yawning new crater from space.\n",
      "----------------------------------------\n",
      "Title:   NASA To Host Briefing on InSight, Mars Reconnaissance Orbiter Findings\n",
      "Summary: Scientists from two Mars missions will discuss how they combined images and data for a major finding on the Red Planet.\n",
      "----------------------------------------\n",
      "Title:   Why NASA Is Trying To Crash Land on Mars\n",
      "Summary: Like a car’s crumple zone, the experimental SHIELD lander is designed to absorb a hard impact.\n",
      "----------------------------------------\n",
      "Title:   Curiosity Mars Rover Reaches Long-Awaited Salty Region\n",
      "Summary: After years of climbing, the Mars rover has arrived at a special region believed to have formed as Mars’ climate was drying.\n",
      "----------------------------------------\n",
      "Title:   Mars Mission Shields Up for Tests\n",
      "Summary: Protecting Mars Sample Return spacecraft from micrometeorites requires high-caliber work.\n",
      "----------------------------------------\n",
      "Title:   NASA's InSight Waits Out Dust Storm\n",
      "Summary: InSight’s team is taking steps to help the solar-powered lander continue operating for as long as possible.\n",
      "----------------------------------------\n",
      "Title:   NASA's InSight 'Hears' Its First Meteoroid Impacts on Mars\n",
      "Summary: The Mars lander’s seismometer has picked up vibrations from four separate impacts in the past two years.\n",
      "----------------------------------------\n",
      "Title:   NASA's Perseverance Rover Investigates Geologically Rich Mars Terrain\n",
      "Summary: The latest findings provide greater detail on a region of the Red Planet that has a watery past and is yielding promising samples for the NASA-ESA Mars Sample Return campaign.\n",
      "----------------------------------------\n",
      "Title:   NASA to Host Briefing on Perseverance Mars Rover Mission Operations\n",
      "Summary: Members of the mission will discuss the rover’s activities as it gathers samples in an ancient river delta.\n",
      "----------------------------------------\n",
      "Title:   NASA's Perseverance Makes New Discoveries in Mars' Jezero Crater\n",
      "Summary: The rover found that Jezero Crater’s floor is made up of volcanic rocks that have interacted with water.\n",
      "----------------------------------------\n",
      "Title:   10 Years Since Landing, NASA's Curiosity Mars Rover Still Has Drive\n",
      "Summary: Despite signs of wear, the intrepid spacecraft is about to start an exciting new chapter of its mission as it climbs a Martian mountain.\n",
      "----------------------------------------\n",
      "Title:   SAM's Top 5 Discoveries Aboard NASA's Curiosity Rover at Mars\n",
      "Summary: “Selfie” of the Curiosity rover with inset showing the SAM instrument prior to installation on the rover.\n",
      "----------------------------------------\n"
     ]
    }
   ],
   "source": [
    "# Scrape all articles (each article block should be in the 'list_text' class)  \n",
    "articles = soup.find_all('div', class_='list_text')  \n",
    "print(f\"Found {len(articles)} articles!\\n\")  \n",
    "  \n",
    "# Create an empty list to store the dictionaries  \n",
    "mars_news = []  \n",
    "  \n",
    "# Loop through each article and extract title and preview  \n",
    "for article in articles:  \n",
    "    title = article.find('div', class_='content_title').text.strip()  \n",
    "    preview = article.find('div', class_='article_teaser_body').text.strip()  \n",
    "      \n",
    "    article_dict = {'title': title, 'preview': preview}  \n",
    "    mars_news.append(article_dict)  \n",
    "  \n",
    "# Print the results in a clean format  \n",
    "print(\"Scraped Mars News Articles:\\n\" + \"=\" * 40)  \n",
    "for news in mars_news:  \n",
    "    print(\"Title:   \" + news['title'])  \n",
    "    print(\"Summary: \" + news['preview'])  \n",
    "    print(\"-\" * 40)  "
   ]
  },
  {
   "cell_type": "code",
   "execution_count": 9,
   "id": "db916895-5bc6-4925-8436-3f923a8dffba",
   "metadata": {},
   "outputs": [
    {
     "name": "stdout",
     "output_type": "stream",
     "text": [
      "Browser closed!\n"
     ]
    }
   ],
   "source": [
    "# Quit the browser safely  \n",
    "if 'browser' in globals():  \n",
    "    browser.quit()  \n",
    "    print(\"Browser closed!\")  \n",
    "else:  \n",
    "    print(\"No browser instance found.\")  "
   ]
  },
  {
   "cell_type": "code",
   "execution_count": null,
   "id": "fc1df1a1-f389-44ba-887c-f0b70c9d31f7",
   "metadata": {},
   "outputs": [],
   "source": []
  }
 ],
 "metadata": {
  "kernelspec": {
   "display_name": "Python 3 (ipykernel)",
   "language": "python",
   "name": "python3"
  },
  "language_info": {
   "codemirror_mode": {
    "name": "ipython",
    "version": 3
   },
   "file_extension": ".py",
   "mimetype": "text/x-python",
   "name": "python",
   "nbconvert_exporter": "python",
   "pygments_lexer": "ipython3",
   "version": "3.12.4"
  }
 },
 "nbformat": 4,
 "nbformat_minor": 5
}
